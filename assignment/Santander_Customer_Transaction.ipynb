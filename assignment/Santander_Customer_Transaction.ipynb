{
  "nbformat": 4,
  "nbformat_minor": 0,
  "metadata": {
    "colab": {
      "name": "Untitled2.ipynb",
      "provenance": [],
      "collapsed_sections": []
    },
    "kernelspec": {
      "name": "python3",
      "display_name": "Python 3"
    },
    "language_info": {
      "name": "python"
    }
  },
  "cells": [
    {
      "cell_type": "markdown",
      "source": [
        "# ASI Final Assignment\n",
        "\n",
        "## Load the Dataset\n",
        "\n"
      ],
      "metadata": {
        "id": "a0UMwHBAOsyi"
      }
    },
    {
      "cell_type": "code",
      "source": [
        "from google.colab import drive\n",
        "drive.mount('/content/drive')\n",
        "\n",
        "%cd /content/drive/MyDrive/"
      ],
      "metadata": {
        "colab": {
          "base_uri": "https://localhost:8080/"
        },
        "id": "Rouf0BRsPF23",
        "outputId": "27865ef5-2e6d-4314-bdef-84738d81638b"
      },
      "execution_count": 13,
      "outputs": [
        {
          "output_type": "stream",
          "name": "stdout",
          "text": [
            "Drive already mounted at /content/drive; to attempt to forcibly remount, call drive.mount(\"/content/drive\", force_remount=True).\n",
            "/content/drive/MyDrive\n"
          ]
        }
      ]
    },
    {
      "cell_type": "code",
      "execution_count": 18,
      "metadata": {
        "colab": {
          "base_uri": "https://localhost:8080/"
        },
        "id": "n0Qtvm9GOJEF",
        "outputId": "ca4f4e5b-f750-48b9-9e6f-7280e0c20737"
      },
      "outputs": [
        {
          "output_type": "stream",
          "name": "stdout",
          "text": [
            "Downloading santander-customer-transaction-prediction.zip to /content/drive/My Drive\n",
            " 92% 230M/250M [00:01<00:00, 217MB/s]\n",
            "100% 250M/250M [00:01<00:00, 219MB/s]\n"
          ]
        }
      ],
      "source": [
        "# load from kaggle using kaggle.json config file from drive\n",
        "# assumption: kaggle.json is located under the main root in your drive\n",
        "\n",
        "###################################\n",
        "# If you run this notebook multiple\n",
        "# times, uncomment the following \n",
        "# lines after the very first one, \n",
        "# not to delete and re-download \n",
        "# the dataset again \n",
        "###################################\n",
        "\n",
        "import os\n",
        "os.environ[\"KAGGLE_CONFIG_DIR\"]='/content/drive/My Drive'\n",
        "!kaggle competitions download -c santander-customer-transaction-prediction\n",
        "!unzip -p santander-customer-transaction-prediction.zip train.csv > train.csv \n",
        "!rm santander-customer-transaction-prediction.zip"
      ]
    },
    {
      "cell_type": "markdown",
      "source": [
        "## Data Exploration"
      ],
      "metadata": {
        "id": "7ZTdREXNWqur"
      }
    },
    {
      "cell_type": "markdown",
      "source": [
        "#### A) Download and import the Santander dataset. The labels of the test data are not publicly available, so create your own test set by randomly choosing half of the instances in the original training set"
      ],
      "metadata": {
        "id": "RAFEOMUvXx5s"
      }
    },
    {
      "cell_type": "code",
      "source": [
        "import pandas as pd\n",
        "from sklearn.model_selection import train_test_split\n",
        "\n",
        "data = pd.read_csv('train.csv')\n",
        "\n",
        "data_train, data_test = \\\n",
        "  train_test_split(data, test_size=0.5, shuffle=True, random_state=42)"
      ],
      "metadata": {
        "id": "ptr38V3wWwFQ"
      },
      "execution_count": 26,
      "outputs": []
    },
    {
      "cell_type": "markdown",
      "source": [
        "#### B) Comment on the distribution of class labels and the dimensionality of the input and how these may affect the analysis."
      ],
      "metadata": {
        "id": "H7oBoHrOX20F"
      }
    }
  ]
}